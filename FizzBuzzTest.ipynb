{
 "cells": [
  {
   "cell_type": "code",
   "execution_count": 24,
   "id": "64dafd58",
   "metadata": {},
   "outputs": [],
   "source": [
    "def FizzBuzz(num): \n",
    "    if num % 3 == 0 and num % 5 == 0:\n",
    "        return \"FizzBuzz\"\n",
    "    elif num % 3 == 0:\n",
    "        return \"Fizz\"\n",
    "    elif num % 5 == 0:\n",
    "        return \"Buzz\"\n",
    "    else:\n",
    "        return str(num)\n",
    "\n"
   ]
  },
  {
   "cell_type": "code",
   "execution_count": 25,
   "id": "12f906f7",
   "metadata": {},
   "outputs": [],
   "source": [
    "def test_three_and_five():\n",
    "    assert  FizzBuzz(15) == \"FizzBuzz\" #3*5\n",
    "    assert  FizzBuzz(30) == \"FizzBuzz\" #2*3*5 \n",
    "    assert  FizzBuzz(225) == \"FizzBuzz\" #3*5*3*5 "
   ]
  },
  {
   "cell_type": "code",
   "execution_count": 9,
   "id": "4d03aa7e",
   "metadata": {},
   "outputs": [],
   "source": [
    "def test_three():\n",
    "    assert  FizzBuzz(3) == \"Fizz\" #3*1\n",
    "    assert  FizzBuzz(72) == \"Fizz\" #3*24 not divisible by 5\n",
    "    assert  FizzBuzz(141) == \"Fizz\" #3*47 not divisible by 5"
   ]
  },
  {
   "cell_type": "code",
   "execution_count": 10,
   "id": "0d65d25b",
   "metadata": {},
   "outputs": [],
   "source": [
    "def test_five():\n",
    "    assert  FizzBuzz(5) == \"Buzz\" #3*1\n",
    "    assert  FizzBuzz(20) == \"Buzz\" #5*4 not divisible by 3\n",
    "    assert  FizzBuzz(100) == \"Buzz\" #5*20 not divisible by 3"
   ]
  },
  {
   "cell_type": "code",
   "execution_count": 11,
   "id": "e6f54f93",
   "metadata": {},
   "outputs": [],
   "source": [
    "def test_seven():\n",
    "    assert FizzBuzz(8) == \"8\" # not divisible by 3,5"
   ]
  },
  {
   "cell_type": "code",
   "execution_count": null,
   "id": "a274999a",
   "metadata": {},
   "outputs": [],
   "source": []
  }
 ],
 "metadata": {
  "kernelspec": {
   "display_name": "Python 3",
   "language": "python",
   "name": "python3"
  },
  "language_info": {
   "codemirror_mode": {
    "name": "ipython",
    "version": 3
   },
   "file_extension": ".py",
   "mimetype": "text/x-python",
   "name": "python",
   "nbconvert_exporter": "python",
   "pygments_lexer": "ipython3",
   "version": "3.8.8"
  }
 },
 "nbformat": 4,
 "nbformat_minor": 5
}
